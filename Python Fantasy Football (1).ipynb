{
 "cells": [
  {
   "cell_type": "code",
   "execution_count": 1,
   "id": "e395de46",
   "metadata": {},
   "outputs": [],
   "source": [
    "# !pip install pandas\n",
    "# !pip install numpy\n",
    "# !pip install matplotlib\n",
    "# !pip install seaborn\n",
    "\n",
    "\n",
    "import pandas as pd\n",
    "import seaborn as sns\n",
    "import numpy as np\n"
   ]
  },
  {
   "cell_type": "code",
   "execution_count": 2,
   "id": "397f05ba",
   "metadata": {},
   "outputs": [
    {
     "name": "stdout",
     "output_type": "stream",
     "text": [
      "     Unnamed: 0          PLAYER NAME TEAM NAME PLAYER POSITION  2019 CAR  \\\n",
      "0             1  Christian McCaffrey  Panthers              RB     287.0   \n",
      "1             2      Ezekiel Elliott   Cowboys              RB     301.0   \n",
      "2             3       Saquon Barkley    Giants              RB     217.0   \n",
      "3             4          Dalvin Cook   Vikings              RB     250.0   \n",
      "4             5         Alvin Kamara    Saints              RB     171.0   \n",
      "..          ...                  ...       ...             ...       ...   \n",
      "250         251       Marshawn Lynch        FA              RB      12.0   \n",
      "251         252       Darren Sproles    Eagles              RB      17.0   \n",
      "252         253         LeSean McCoy        FA              RB     101.0   \n",
      "253         254          Alex Barnes    Titans              RB       NaN   \n",
      "254         255        Austin Walter    Giants              RB       0.0   \n",
      "\n",
      "     2019 RUSH YDS  2019 RUSH AVG  2019 RUSH TD  2019 REC  2019 REC YDS  ...  \\\n",
      "0           1387.0            4.8          15.0     116.0        1005.0  ...   \n",
      "1           1357.0            4.5          12.0      54.0         420.0  ...   \n",
      "2           1003.0            4.6           6.0      52.0         438.0  ...   \n",
      "3           1135.0            4.5          13.0      53.0         519.0  ...   \n",
      "4            797.0            4.7           5.0      81.0         533.0  ...   \n",
      "..             ...            ...           ...       ...           ...  ...   \n",
      "250           34.0            2.8           1.0       0.0           0.0  ...   \n",
      "251           66.0            3.9           0.0       6.0          24.0  ...   \n",
      "252          465.0            4.6           4.0      28.0         181.0  ...   \n",
      "253            NaN            NaN           NaN       NaN           NaN  ...   \n",
      "254            0.0            0.0           0.0       0.0           0.0  ...   \n",
      "\n",
      "     2019 FPTS  2020 CAR  2020 RUSH YARDS  2020 RUSH AVG  2020 RUSH TD  \\\n",
      "0       471.20     233.0           1048.0            4.5           9.0   \n",
      "1       311.70     282.0           1244.0            4.4          10.0   \n",
      "2       244.10     261.0           1176.0            4.5          10.0   \n",
      "3       292.40     245.0           1051.0            4.3          10.0   \n",
      "4       248.52     194.0            876.0            4.5           8.0   \n",
      "..         ...       ...              ...            ...           ...   \n",
      "250       9.40       NaN              NaN            NaN           NaN   \n",
      "251      17.00       NaN              NaN            NaN           NaN   \n",
      "252     118.60       NaN              NaN            NaN           NaN   \n",
      "253        NaN       NaN              NaN            NaN           NaN   \n",
      "254       0.00       NaN              NaN            NaN           NaN   \n",
      "\n",
      "     2020 REC  2020 REC YDS  2020 REC TD  2020 FPTS  \\\n",
      "0        90.0         736.0          3.0     333.95   \n",
      "1        57.0         455.0          2.0     300.76   \n",
      "2        57.0         458.0          3.0     292.33   \n",
      "3        64.0         536.0          1.0     291.72   \n",
      "4        78.0         600.0          3.0     290.39   \n",
      "..        ...           ...          ...        ...   \n",
      "250       NaN           NaN          NaN       0.00   \n",
      "251       NaN           NaN          NaN       0.00   \n",
      "252       NaN           NaN          NaN       0.00   \n",
      "253       NaN           NaN          NaN       0.00   \n",
      "254       NaN           NaN          NaN       0.00   \n",
      "\n",
      "                                        Player OUTLOOK  \n",
      "0    McCaffrey returns as the feature back in Carol...  \n",
      "1    Elliott returns as the clear feature back in D...  \n",
      "2    Barkley's 2019 season fell short of lofty expe...  \n",
      "3    Cook's career has thus far been marred by inju...  \n",
      "4    Kamara is coming off an up-and-down 2019 campa...  \n",
      "..                                                 ...  \n",
      "250                              No outlook available.  \n",
      "251                              No outlook available.  \n",
      "252                              No outlook available.  \n",
      "253                              No outlook available.  \n",
      "254                              No outlook available.  \n",
      "\n",
      "[255 rows x 21 columns]\n"
     ]
    }
   ],
   "source": [
    "qbdata = pd.read_csv(r'C:\\Users\\nates\\Desktop\\MPS Program\\CDA 501 Int. Data Driven Analysis\\Python Project\\qb_stats_and_projections.csv')\n",
    "qbdf = pd.DataFrame(qbdata)\n",
    "\n",
    "rbdata = pd.read_csv(r'C:\\Users\\nates\\Desktop\\MPS Program\\CDA 501 Int. Data Driven Analysis\\Python Project\\rb_stats_and_projections.csv')\n",
    "rbdf = pd.DataFrame(rbdata)\n",
    "\n",
    "wrdata = pd.read_csv(r'C:\\Users\\nates\\Desktop\\MPS Program\\CDA 501 Int. Data Driven Analysis\\Python Project\\wr_stats_and_projections.csv')\n",
    "wrdf = pd.DataFrame(wrdata)\n",
    "\n",
    "print(rbdf)\n",
    "\n",
    "\n"
   ]
  },
  {
   "cell_type": "code",
   "execution_count": 3,
   "id": "3e68296b",
   "metadata": {},
   "outputs": [],
   "source": [
    "    qbclean = qbdf.drop(['Unnamed: 0', 'TEAM NAME', 'PLAYER POSITION', '2020 OUTLOOK'], axis=1)\n",
    "    #print(qbclean)\n",
    "    \n",
    "    \n",
    "    rbclean = rbdf.drop(['Unnamed: 0', 'TEAM NAME', 'PLAYER POSITION', 'Player OUTLOOK'], axis=1)\n",
    "    #print(rbclean)\n",
    "    \n",
    "    \n",
    "    wrclean = wrdf.drop(['Unnamed: 0', 'TEAM', 'POSITION', '2020 PLAYER OUTLOOK'], axis=1)\n",
    "    #print(wrclean)"
   ]
  },
  {
   "cell_type": "code",
   "execution_count": 4,
   "id": "ed71c7e1",
   "metadata": {},
   "outputs": [
    {
     "name": "stdout",
     "output_type": "stream",
     "text": [
      "          PLAYER NAME  2019 TAR  2019 REC  2019 REC YARDS  2019 AVG REC YARDS  \\\n",
      "0      Michael Thomas     185.0     149.0          1725.0                11.6   \n",
      "1     DeAndre Hopkins     150.0     104.0          1165.0                11.2   \n",
      "2         Julio Jones     157.0      99.0          1394.0                14.1   \n",
      "3        Chris Godwin     120.0      86.0          1333.0                15.5   \n",
      "4       Davante Adams     127.0      83.0           997.0                12.0   \n",
      "..                ...       ...       ...             ...                 ...   \n",
      "195     Da'Mari Scott       3.0       2.0            22.0                11.0   \n",
      "196      Trevor Davis      11.0       8.0           111.0                13.9   \n",
      "197  Darrius Shepherd       2.0       1.0             1.0                 1.0   \n",
      "198   Trent Sherfield      12.0       4.0            80.0                20.0   \n",
      "199    DeAndrew White       9.0       4.0            51.0                12.8   \n",
      "\n",
      "     2019 REC TDS  2019 RUSH CAR  2019 RUSH YARDS  2019 RUSH TDS  2019 FPTS  \\\n",
      "0             9.0            1.0             -9.0            0.0     374.60   \n",
      "1             7.0            2.0             18.0            0.0     268.54   \n",
      "2             6.0            2.0             -3.0            0.0     274.10   \n",
      "3             9.0            1.0              8.0            0.0     276.10   \n",
      "4             5.0            0.0              0.0            0.0     212.70   \n",
      "..            ...            ...              ...            ...        ...   \n",
      "195           0.0            1.0              5.0            0.0       4.70   \n",
      "196           0.0            4.0             73.0            1.0      28.40   \n",
      "197           0.0            0.0              0.0            0.0      -0.90   \n",
      "198           0.0            0.0              0.0            0.0      12.00   \n",
      "199           0.0            0.0              0.0            0.0       9.10   \n",
      "\n",
      "     2020 TAR  2020 REC  2020 REC YARDS  2020 AVG REC YARDS  2020 REC TDS  \\\n",
      "0       152.0     114.0          1351.0                11.9           9.0   \n",
      "1       141.0      92.0          1140.0                12.3           8.0   \n",
      "2       139.0      89.0          1245.0                14.0           7.0   \n",
      "3       131.0      88.0          1191.0                13.6           8.0   \n",
      "4       137.0      90.0          1149.0                12.7           7.0   \n",
      "..        ...       ...             ...                 ...           ...   \n",
      "195       0.0       0.0             0.0                 0.0           0.0   \n",
      "196       0.0       0.0             0.0                 0.0           0.0   \n",
      "197       0.0       0.0             0.0                 0.0           0.0   \n",
      "198       0.0       0.0             0.0                 0.0           0.0   \n",
      "199       0.0       0.0             0.0                 0.0           0.0   \n",
      "\n",
      "     2020 RUSH CAR  2020 RUSH YARDS  2020 RUSH TDS  2020 FPTS  \n",
      "0              0.0              0.0            0.0     301.44  \n",
      "1              4.0             23.0            0.0     255.30  \n",
      "2              2.0             10.0            0.0     253.95  \n",
      "3              0.0              0.0            0.0     251.83  \n",
      "4              0.0              0.0            0.0     249.39  \n",
      "..             ...              ...            ...        ...  \n",
      "195            0.0              0.0            0.0       0.45  \n",
      "196            0.0              0.0            0.0       0.29  \n",
      "197            0.0              0.0            0.0       0.19  \n",
      "198            0.0              0.0            0.0       0.12  \n",
      "199            0.0              0.0            0.0       0.12  \n",
      "\n",
      "[162 rows x 19 columns]\n"
     ]
    }
   ],
   "source": [
    "    qbclean = qbclean.dropna()\n",
    "    #print(qbclean)\n",
    "    \n",
    "    rbclean = rbclean.dropna()\n",
    "    #print(rbclean)\n",
    "    \n",
    "    wrclean = wrclean.dropna()\n",
    "    print(wrclean)"
   ]
  },
  {
   "cell_type": "code",
   "execution_count": 5,
   "id": "3c7b26aa",
   "metadata": {},
   "outputs": [
    {
     "name": "stdout",
     "output_type": "stream",
     "text": [
      "          PLAYER NAME  2019 TAR  2019 REC  2019 REC YARDS  2019 AVG REC YARDS  \\\n",
      "0      Michael Thomas     185.0     149.0          1725.0                11.6   \n",
      "1     DeAndre Hopkins     150.0     104.0          1165.0                11.2   \n",
      "2         Julio Jones     157.0      99.0          1394.0                14.1   \n",
      "3        Chris Godwin     120.0      86.0          1333.0                15.5   \n",
      "4       Davante Adams     127.0      83.0           997.0                12.0   \n",
      "..                ...       ...       ...             ...                 ...   \n",
      "195     Da'Mari Scott       3.0       2.0            22.0                11.0   \n",
      "196      Trevor Davis      11.0       8.0           111.0                13.9   \n",
      "197  Darrius Shepherd       2.0       1.0             1.0                 1.0   \n",
      "198   Trent Sherfield      12.0       4.0            80.0                20.0   \n",
      "199    DeAndrew White       9.0       4.0            51.0                12.8   \n",
      "\n",
      "     2019 REC TDS  2019 RUSH CAR  2019 RUSH YARDS  2019 RUSH TDS  2019 FPTS  \\\n",
      "0             9.0            1.0             -9.0            0.0     374.60   \n",
      "1             7.0            2.0             18.0            0.0     268.54   \n",
      "2             6.0            2.0             -3.0            0.0     274.10   \n",
      "3             9.0            1.0              8.0            0.0     276.10   \n",
      "4             5.0            0.0              0.0            0.0     212.70   \n",
      "..            ...            ...              ...            ...        ...   \n",
      "195           0.0            1.0              5.0            0.0       4.70   \n",
      "196           0.0            4.0             73.0            1.0      28.40   \n",
      "197           0.0            0.0              0.0            0.0      -0.90   \n",
      "198           0.0            0.0              0.0            0.0      12.00   \n",
      "199           0.0            0.0              0.0            0.0       9.10   \n",
      "\n",
      "     2020 TAR  2020 REC  2020 REC YARDS  2020 AVG REC YARDS  2020 REC TDS  \\\n",
      "0       152.0     114.0          1351.0                11.9           9.0   \n",
      "1       141.0      92.0          1140.0                12.3           8.0   \n",
      "2       139.0      89.0          1245.0                14.0           7.0   \n",
      "3       131.0      88.0          1191.0                13.6           8.0   \n",
      "4       137.0      90.0          1149.0                12.7           7.0   \n",
      "..        ...       ...             ...                 ...           ...   \n",
      "195       0.0       0.0             0.0                 0.0           0.0   \n",
      "196       0.0       0.0             0.0                 0.0           0.0   \n",
      "197       0.0       0.0             0.0                 0.0           0.0   \n",
      "198       0.0       0.0             0.0                 0.0           0.0   \n",
      "199       0.0       0.0             0.0                 0.0           0.0   \n",
      "\n",
      "     2020 RUSH CAR  2020 RUSH YARDS  2020 RUSH TDS  2020 FPTS  \n",
      "0              0.0              0.0            0.0     301.44  \n",
      "1              4.0             23.0            0.0     255.30  \n",
      "2              2.0             10.0            0.0     253.95  \n",
      "3              0.0              0.0            0.0     251.83  \n",
      "4              0.0              0.0            0.0     249.39  \n",
      "..             ...              ...            ...        ...  \n",
      "195            0.0              0.0            0.0       0.45  \n",
      "196            0.0              0.0            0.0       0.29  \n",
      "197            0.0              0.0            0.0       0.19  \n",
      "198            0.0              0.0            0.0       0.12  \n",
      "199            0.0              0.0            0.0       0.12  \n",
      "\n",
      "[162 rows x 19 columns]\n"
     ]
    }
   ],
   "source": [
    "    qbclean = qbclean.loc[~(qbclean==0).any(axis=1)]\n",
    "    #print(qbclean)\n",
    "    \n",
    "    rbclean = rbclean.loc[~(rbclean==0).any(axis=1)]\n",
    "    #print(rbclean)\n",
    "    \n",
    "    wrclean = wrclean.loc[~(wrclean==0).all(axis=1)]\n",
    "    print(wrclean)"
   ]
  },
  {
   "cell_type": "code",
   "execution_count": 8,
   "id": "e84217ce",
   "metadata": {},
   "outputs": [
    {
     "name": "stdout",
     "output_type": "stream",
     "text": [
      "       2019 COMPLETED PASS  2019 ATTEMPTED PASS  2019 PASSING YDS  \\\n",
      "count            22.000000            22.000000         22.000000   \n",
      "mean            326.000000           503.409091       3724.363636   \n",
      "std              50.566317            85.086320        583.729842   \n",
      "min             201.000000           286.000000       2742.000000   \n",
      "25%             289.750000           459.500000       3129.750000   \n",
      "50%             327.500000           507.500000       3839.500000   \n",
      "75%             359.000000           562.250000       4050.250000   \n",
      "max             408.000000           626.000000       4902.000000   \n",
      "\n",
      "       2019 PASSING TD   2019 INT    2019 CAR  2019 RUSH YDS  2019 RUSH TD  \\\n",
      "count        22.000000  22.000000   22.000000      22.000000     22.000000   \n",
      "mean         24.500000   9.772727   54.318182     248.318182      2.954545   \n",
      "std           4.437395   4.363614   36.011091     260.881361      2.192569   \n",
      "min          17.000000   4.000000    9.000000      -4.000000      1.000000   \n",
      "25%          21.250000   6.000000   33.000000      67.750000      1.250000   \n",
      "50%          25.000000   9.500000   45.500000     189.000000      2.000000   \n",
      "75%          26.750000  12.750000   60.000000     278.500000      3.750000   \n",
      "max          36.000000  21.000000  176.000000    1206.000000      9.000000   \n",
      "\n",
      "        2019 FPTS  2020 COMPLETED PASS  2020 ATTEMPTED PASS  2020 PASSING YDS  \\\n",
      "count   22.000000            22.000000            22.000000         22.000000   \n",
      "mean   266.333636           312.863636           485.500000       3628.136364   \n",
      "std     51.458605            71.678047           109.763707        854.990019   \n",
      "min    189.160000            79.000000           127.000000        917.000000   \n",
      "25%    232.250000           301.250000           468.500000       3530.750000   \n",
      "50%    255.600000           334.000000           517.500000       3728.500000   \n",
      "75%    286.600000           349.750000           541.250000       4016.250000   \n",
      "max    415.680000           390.000000           600.000000       4533.000000   \n",
      "\n",
      "       2020 PASSING TD   2020 INT    2020 CAR  2020 RUSH YDS  2020 RUSH TD  \\\n",
      "count        22.000000  22.000000   22.000000      22.000000     22.000000   \n",
      "mean         23.727273  10.363636   51.545455     232.954545      2.318182   \n",
      "std           6.598570   2.682313   32.836866     217.023474      1.358794   \n",
      "min           5.000000   4.000000   13.000000      11.000000      1.000000   \n",
      "25%          22.000000   9.000000   31.250000      78.750000      1.250000   \n",
      "50%          25.000000  10.500000   44.000000     168.000000      2.000000   \n",
      "75%          27.000000  12.000000   60.250000     276.750000      2.750000   \n",
      "max          32.000000  15.000000  156.000000     902.000000      6.000000   \n",
      "\n",
      "        2020 FPTS  \n",
      "count   22.000000  \n",
      "mean   251.605909  \n",
      "std     66.652435  \n",
      "min     56.150000  \n",
      "25%    233.817500  \n",
      "50%    266.025000  \n",
      "75%    293.260000  \n",
      "max    338.230000  \n"
     ]
    }
   ],
   "source": [
    "    qbcleandes = qbclean.describe()\n",
    "    print(qbcleandes)\n",
    "    \n",
    "    rbcleandes = rbclean.describe()\n",
    "    #print(rbcleandes)\n",
    "    \n",
    "    wrcleandes = wrclean.describe()\n",
    "    #print(wrcleandes)"
   ]
  },
  {
   "cell_type": "code",
   "execution_count": 17,
   "id": "81839b65",
   "metadata": {},
   "outputs": [
    {
     "ename": "ValueError",
     "evalue": "Could not interpret value `2019 COMPLETED PASS` for parameter `x`",
     "output_type": "error",
     "traceback": [
      "\u001b[1;31m---------------------------------------------------------------------------\u001b[0m",
      "\u001b[1;31mValueError\u001b[0m                                Traceback (most recent call last)",
      "\u001b[1;32m<ipython-input-17-ade384cc210d>\u001b[0m in \u001b[0;36m<module>\u001b[1;34m\u001b[0m\n\u001b[1;32m----> 1\u001b[1;33m sns.scatterplot(\n\u001b[0m\u001b[0;32m      2\u001b[0m     data=qbclean.melt, x = '2019 COMPLETED PASS', y = '2019 FPTS', hue = 'PLAYER NAME', col = 'variable', multiple = 'dodge')\n",
      "\u001b[1;32m~\\anaconda3\\lib\\site-packages\\seaborn\\_decorators.py\u001b[0m in \u001b[0;36minner_f\u001b[1;34m(*args, **kwargs)\u001b[0m\n\u001b[0;32m     44\u001b[0m             )\n\u001b[0;32m     45\u001b[0m         \u001b[0mkwargs\u001b[0m\u001b[1;33m.\u001b[0m\u001b[0mupdate\u001b[0m\u001b[1;33m(\u001b[0m\u001b[1;33m{\u001b[0m\u001b[0mk\u001b[0m\u001b[1;33m:\u001b[0m \u001b[0marg\u001b[0m \u001b[1;32mfor\u001b[0m \u001b[0mk\u001b[0m\u001b[1;33m,\u001b[0m \u001b[0marg\u001b[0m \u001b[1;32min\u001b[0m \u001b[0mzip\u001b[0m\u001b[1;33m(\u001b[0m\u001b[0msig\u001b[0m\u001b[1;33m.\u001b[0m\u001b[0mparameters\u001b[0m\u001b[1;33m,\u001b[0m \u001b[0margs\u001b[0m\u001b[1;33m)\u001b[0m\u001b[1;33m}\u001b[0m\u001b[1;33m)\u001b[0m\u001b[1;33m\u001b[0m\u001b[1;33m\u001b[0m\u001b[0m\n\u001b[1;32m---> 46\u001b[1;33m         \u001b[1;32mreturn\u001b[0m \u001b[0mf\u001b[0m\u001b[1;33m(\u001b[0m\u001b[1;33m**\u001b[0m\u001b[0mkwargs\u001b[0m\u001b[1;33m)\u001b[0m\u001b[1;33m\u001b[0m\u001b[1;33m\u001b[0m\u001b[0m\n\u001b[0m\u001b[0;32m     47\u001b[0m     \u001b[1;32mreturn\u001b[0m \u001b[0minner_f\u001b[0m\u001b[1;33m\u001b[0m\u001b[1;33m\u001b[0m\u001b[0m\n\u001b[0;32m     48\u001b[0m \u001b[1;33m\u001b[0m\u001b[0m\n",
      "\u001b[1;32m~\\anaconda3\\lib\\site-packages\\seaborn\\relational.py\u001b[0m in \u001b[0;36mscatterplot\u001b[1;34m(x, y, hue, style, size, data, palette, hue_order, hue_norm, sizes, size_order, size_norm, markers, style_order, x_bins, y_bins, units, estimator, ci, n_boot, alpha, x_jitter, y_jitter, legend, ax, **kwargs)\u001b[0m\n\u001b[0;32m    799\u001b[0m \u001b[1;33m\u001b[0m\u001b[0m\n\u001b[0;32m    800\u001b[0m     \u001b[0mvariables\u001b[0m \u001b[1;33m=\u001b[0m \u001b[0m_ScatterPlotter\u001b[0m\u001b[1;33m.\u001b[0m\u001b[0mget_semantics\u001b[0m\u001b[1;33m(\u001b[0m\u001b[0mlocals\u001b[0m\u001b[1;33m(\u001b[0m\u001b[1;33m)\u001b[0m\u001b[1;33m)\u001b[0m\u001b[1;33m\u001b[0m\u001b[1;33m\u001b[0m\u001b[0m\n\u001b[1;32m--> 801\u001b[1;33m     p = _ScatterPlotter(\n\u001b[0m\u001b[0;32m    802\u001b[0m         \u001b[0mdata\u001b[0m\u001b[1;33m=\u001b[0m\u001b[0mdata\u001b[0m\u001b[1;33m,\u001b[0m \u001b[0mvariables\u001b[0m\u001b[1;33m=\u001b[0m\u001b[0mvariables\u001b[0m\u001b[1;33m,\u001b[0m\u001b[1;33m\u001b[0m\u001b[1;33m\u001b[0m\u001b[0m\n\u001b[0;32m    803\u001b[0m         \u001b[0mx_bins\u001b[0m\u001b[1;33m=\u001b[0m\u001b[0mx_bins\u001b[0m\u001b[1;33m,\u001b[0m \u001b[0my_bins\u001b[0m\u001b[1;33m=\u001b[0m\u001b[0my_bins\u001b[0m\u001b[1;33m,\u001b[0m\u001b[1;33m\u001b[0m\u001b[1;33m\u001b[0m\u001b[0m\n",
      "\u001b[1;32m~\\anaconda3\\lib\\site-packages\\seaborn\\relational.py\u001b[0m in \u001b[0;36m__init__\u001b[1;34m(self, data, variables, x_bins, y_bins, estimator, ci, n_boot, alpha, x_jitter, y_jitter, legend)\u001b[0m\n\u001b[0;32m    585\u001b[0m         )\n\u001b[0;32m    586\u001b[0m \u001b[1;33m\u001b[0m\u001b[0m\n\u001b[1;32m--> 587\u001b[1;33m         \u001b[0msuper\u001b[0m\u001b[1;33m(\u001b[0m\u001b[1;33m)\u001b[0m\u001b[1;33m.\u001b[0m\u001b[0m__init__\u001b[0m\u001b[1;33m(\u001b[0m\u001b[0mdata\u001b[0m\u001b[1;33m=\u001b[0m\u001b[0mdata\u001b[0m\u001b[1;33m,\u001b[0m \u001b[0mvariables\u001b[0m\u001b[1;33m=\u001b[0m\u001b[0mvariables\u001b[0m\u001b[1;33m)\u001b[0m\u001b[1;33m\u001b[0m\u001b[1;33m\u001b[0m\u001b[0m\n\u001b[0m\u001b[0;32m    588\u001b[0m \u001b[1;33m\u001b[0m\u001b[0m\n\u001b[0;32m    589\u001b[0m         \u001b[0mself\u001b[0m\u001b[1;33m.\u001b[0m\u001b[0malpha\u001b[0m \u001b[1;33m=\u001b[0m \u001b[0malpha\u001b[0m\u001b[1;33m\u001b[0m\u001b[1;33m\u001b[0m\u001b[0m\n",
      "\u001b[1;32m~\\anaconda3\\lib\\site-packages\\seaborn\\_core.py\u001b[0m in \u001b[0;36m__init__\u001b[1;34m(self, data, variables)\u001b[0m\n\u001b[0;32m    602\u001b[0m     \u001b[1;32mdef\u001b[0m \u001b[0m__init__\u001b[0m\u001b[1;33m(\u001b[0m\u001b[0mself\u001b[0m\u001b[1;33m,\u001b[0m \u001b[0mdata\u001b[0m\u001b[1;33m=\u001b[0m\u001b[1;32mNone\u001b[0m\u001b[1;33m,\u001b[0m \u001b[0mvariables\u001b[0m\u001b[1;33m=\u001b[0m\u001b[1;33m{\u001b[0m\u001b[1;33m}\u001b[0m\u001b[1;33m)\u001b[0m\u001b[1;33m:\u001b[0m\u001b[1;33m\u001b[0m\u001b[1;33m\u001b[0m\u001b[0m\n\u001b[0;32m    603\u001b[0m \u001b[1;33m\u001b[0m\u001b[0m\n\u001b[1;32m--> 604\u001b[1;33m         \u001b[0mself\u001b[0m\u001b[1;33m.\u001b[0m\u001b[0massign_variables\u001b[0m\u001b[1;33m(\u001b[0m\u001b[0mdata\u001b[0m\u001b[1;33m,\u001b[0m \u001b[0mvariables\u001b[0m\u001b[1;33m)\u001b[0m\u001b[1;33m\u001b[0m\u001b[1;33m\u001b[0m\u001b[0m\n\u001b[0m\u001b[0;32m    605\u001b[0m \u001b[1;33m\u001b[0m\u001b[0m\n\u001b[0;32m    606\u001b[0m         \u001b[1;32mfor\u001b[0m \u001b[0mvar\u001b[0m\u001b[1;33m,\u001b[0m \u001b[0mcls\u001b[0m \u001b[1;32min\u001b[0m \u001b[0mself\u001b[0m\u001b[1;33m.\u001b[0m\u001b[0m_semantic_mappings\u001b[0m\u001b[1;33m.\u001b[0m\u001b[0mitems\u001b[0m\u001b[1;33m(\u001b[0m\u001b[1;33m)\u001b[0m\u001b[1;33m:\u001b[0m\u001b[1;33m\u001b[0m\u001b[1;33m\u001b[0m\u001b[0m\n",
      "\u001b[1;32m~\\anaconda3\\lib\\site-packages\\seaborn\\_core.py\u001b[0m in \u001b[0;36massign_variables\u001b[1;34m(self, data, variables)\u001b[0m\n\u001b[0;32m    665\u001b[0m         \u001b[1;32melse\u001b[0m\u001b[1;33m:\u001b[0m\u001b[1;33m\u001b[0m\u001b[1;33m\u001b[0m\u001b[0m\n\u001b[0;32m    666\u001b[0m             \u001b[0mself\u001b[0m\u001b[1;33m.\u001b[0m\u001b[0minput_format\u001b[0m \u001b[1;33m=\u001b[0m \u001b[1;34m\"long\"\u001b[0m\u001b[1;33m\u001b[0m\u001b[1;33m\u001b[0m\u001b[0m\n\u001b[1;32m--> 667\u001b[1;33m             plot_data, variables = self._assign_variables_longform(\n\u001b[0m\u001b[0;32m    668\u001b[0m                 \u001b[0mdata\u001b[0m\u001b[1;33m,\u001b[0m \u001b[1;33m**\u001b[0m\u001b[0mvariables\u001b[0m\u001b[1;33m,\u001b[0m\u001b[1;33m\u001b[0m\u001b[1;33m\u001b[0m\u001b[0m\n\u001b[0;32m    669\u001b[0m             )\n",
      "\u001b[1;32m~\\anaconda3\\lib\\site-packages\\seaborn\\_core.py\u001b[0m in \u001b[0;36m_assign_variables_longform\u001b[1;34m(self, data, **kwargs)\u001b[0m\n\u001b[0;32m    900\u001b[0m \u001b[1;33m\u001b[0m\u001b[0m\n\u001b[0;32m    901\u001b[0m                 \u001b[0merr\u001b[0m \u001b[1;33m=\u001b[0m \u001b[1;34mf\"Could not interpret value `{val}` for parameter `{key}`\"\u001b[0m\u001b[1;33m\u001b[0m\u001b[1;33m\u001b[0m\u001b[0m\n\u001b[1;32m--> 902\u001b[1;33m                 \u001b[1;32mraise\u001b[0m \u001b[0mValueError\u001b[0m\u001b[1;33m(\u001b[0m\u001b[0merr\u001b[0m\u001b[1;33m)\u001b[0m\u001b[1;33m\u001b[0m\u001b[1;33m\u001b[0m\u001b[0m\n\u001b[0m\u001b[0;32m    903\u001b[0m \u001b[1;33m\u001b[0m\u001b[0m\n\u001b[0;32m    904\u001b[0m             \u001b[1;32melse\u001b[0m\u001b[1;33m:\u001b[0m\u001b[1;33m\u001b[0m\u001b[1;33m\u001b[0m\u001b[0m\n",
      "\u001b[1;31mValueError\u001b[0m: Could not interpret value `2019 COMPLETED PASS` for parameter `x`"
     ]
    }
   ],
   "source": [
    "    sns.scatterplot(\n",
    "        data=qbclean.melt(id_vars = \"PLAYER NAME\"), x = '2019 COMPLETED PASS', y = '2019 FPTS', hue = 'PLAYER NAME', col = 'variable', multiple = 'dodge')"
   ]
  },
  {
   "cell_type": "code",
   "execution_count": 16,
   "id": "b09bcc6e",
   "metadata": {},
   "outputs": [
    {
     "data": {
      "text/plain": [
       "<seaborn.axisgrid.FacetGrid at 0x1eec66a1d90>"
      ]
     },
     "execution_count": 16,
     "metadata": {},
     "output_type": "execute_result"
    },
    {
     "data": {
      "image/png": "[encoded data removed]",
      "text/plain": [
       "<Figure size 360x360 with 1 Axes>"
      ]
     },
     "metadata": {
      "needs_background": "light"
     },
     "output_type": "display_data"
    }
   ],
   "source": [
    "    sns.catplot(x='2019 COMPLETED PASS', y='2019 FPTS', data=qbclean)\n"
   ]
  }
 ],
 "metadata": {
  "kernelspec": {
   "display_name": "Python 3",
   "language": "python",
   "name": "python3"
  },
  "language_info": {
   "codemirror_mode": {
    "name": "ipython",
    "version": 3
   },
   "file_extension": ".py",
   "mimetype": "text/x-python",
   "name": "python",
   "nbconvert_exporter": "python",
   "pygments_lexer": "ipython3",
   "version": "3.8.8"
  }
 },
 "nbformat": 4,
 "nbformat_minor": 5
}
